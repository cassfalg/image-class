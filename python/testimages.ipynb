{
 "cells": [
  {
   "cell_type": "code",
   "execution_count": null,
   "id": "1e726f10",
   "metadata": {},
   "outputs": [],
   "source": [
    "from PIL import Image, ImageDraw\n",
    "img = Image.new(\"RGB\", (450, 450), (0, 0, 0))\n",
    "draw = ImageDraw.Draw(img)\n",
    "\n",
    "# squares\n",
    "draw.rectangle([(50,50),(100,100)],outline=(255, 255, 255))\n",
    "draw.rectangle([(150,50),(200,100)],outline=(255, 0, 0))\n",
    "draw.rectangle([(250,50),(300,100)],outline=(0, 255, 0))\n",
    "draw.rectangle([(350,50),(400,100)],outline=(0, 0, 255))\n",
    "\n",
    "# circles\n",
    "draw.ellipse((50, 150, 100, 200), outline=(255, 255, 255))\n",
    "draw.ellipse((150, 150, 200, 200), outline=(255, 0, 0))\n",
    "draw.ellipse((250, 150, 300, 200), outline=(0, 255, 0))\n",
    "draw.ellipse((350, 150, 400, 200), outline=(0, 0, 255))\n",
    "\n",
    "# crosses\n",
    "draw.line(( 50, 275, 100, 275), fill=(255, 255, 255), width=1)\n",
    "draw.line(( 75, 250,  75, 300), fill=(255, 255, 255), width=1)\n",
    "draw.line((150, 275, 200, 275), fill=(255, 0, 0), width=1)\n",
    "draw.line((175, 250, 175, 300), fill=(255, 0, 0), width=1)\n",
    "draw.line((250, 275, 300, 275), fill=(0, 255, 0), width=1)\n",
    "draw.line((275, 250, 275, 300), fill=(0, 255, 0), width=1)\n",
    "draw.line((350, 275, 400, 275), fill=(0, 0, 255), width=1)\n",
    "draw.line((375, 250, 375, 300), fill=(0, 0, 255), width=1)\n",
    "\n",
    "# line series\n",
    "v = 50\n",
    "for size in range(0, 6):\n",
    "    draw.line(( v, 350, v, 400), fill=(255, 255, 255), width=1)\n",
    "    v+=size*2\n",
    "    draw.line(( v, 350, v, 400), fill=(255, 255, 255), width=1)\n",
    "    v+=size*2\n",
    "\n",
    "v = 150\n",
    "for size in range(0, 6):\n",
    "    draw.line(( v, 350, v, 400), fill=(255, 0, 0), width=1)\n",
    "    v+=size*2\n",
    "    draw.line(( v, 350, v, 400), fill=(255, 0, 0), width=1)\n",
    "    v+=size*2\n",
    "\n",
    "v = 250\n",
    "for size in range(0, 6):\n",
    "    draw.line(( v, 350, v, 400), fill=(0, 255, 0), width=1)\n",
    "    v+=size*2\n",
    "    draw.line(( v, 350, v, 400), fill=(0, 255, 0), width=1)\n",
    "    v+=size*2\n",
    "\n",
    "v = 350\n",
    "for size in range(0, 6):\n",
    "    draw.line(( v, 350, v, 400), fill=(0, 0, 255), width=1)\n",
    "    v+=size*2\n",
    "    draw.line(( v, 350, v, 400), fill=(0, 0, 255), width=1)\n",
    "    v+=size*2\n",
    "display(img)\n",
    "\n",
    "img.save(\"../assets/shapes.ppm\")"
   ]
  },
  {
   "cell_type": "code",
   "execution_count": null,
   "id": "5957994e",
   "metadata": {},
   "outputs": [],
   "source": []
  }
 ],
 "metadata": {
  "kernelspec": {
   "display_name": "Python 3 (ipykernel)",
   "language": "python",
   "name": "python3"
  },
  "language_info": {
   "codemirror_mode": {
    "name": "ipython",
    "version": 3
   },
   "file_extension": ".py",
   "mimetype": "text/x-python",
   "name": "python",
   "nbconvert_exporter": "python",
   "pygments_lexer": "ipython3",
   "version": "3.10.8"
  }
 },
 "nbformat": 4,
 "nbformat_minor": 5
}
